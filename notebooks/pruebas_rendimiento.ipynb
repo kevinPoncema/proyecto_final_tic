{
 "cells": [
  {
   "cell_type": "markdown",
   "id": "6533fdf2",
   "metadata": {},
   "source": [
    "# 🔧 Primera Prueba: Métricas de Comparación General\n",
    "\n",
    "En esta sección se describe la primera batería de pruebas de rendimiento diseñadas para comparar el uso de recursos entre una máquina virtual (**VM**) y un contenedor **Docker**.\n",
    "\n",
    "El objetivo de estas pruebas es obtener métricas detalladas sobre cómo cada entorno gestiona la carga de trabajo, enfocándose en CPU, memoria, disco y red.\n",
    "\n",
    "---\n",
    "\n",
    "## 🛠️ Metodología de Prueba\n",
    "\n",
    "Se desarrolló un script en Python que ejecuta de forma secuencial las siguientes herramientas de benchmarking:\n",
    "\n",
    "- **sysbench** → mide el rendimiento de la CPU.\n",
    "- **stress** → simula carga intensiva sobre el procesador.\n",
    "- **dd** → evalúa la velocidad de escritura en disco.\n",
    "- **iperf3** → mide la velocidad de transmisión y recepción de datos en red.\n",
    "\n",
    "---\n",
    "\n",
    "## 📊 Recursos Monitoreados\n",
    "\n",
    "Durante la ejecución de cada prueba, el script monitorizó en tiempo real los siguientes parámetros:\n",
    "\n",
    "- Porcentaje de uso de **CPU**\n",
    "- **Memoria RAM** utilizada\n",
    "- Espacio de **disco** ocupado\n",
    "- Datos de **red** enviados y recibidos\n",
    "\n",
    "Esto se logró utilizando la librería **psutil**, que permite obtener estadísticas del sistema con precisión y registrar muestras programadas (una muestra por segundo).\n",
    "\n",
    "---\n",
    "\n",
    "## 📁 Almacenamiento de Resultados\n",
    "\n",
    "Todos los resultados generados por las pruebas fueron guardados en archivos `.txt` dentro de la carpeta de resultados. Cada archivo contiene:\n",
    "\n",
    "- La salida detallada del test ejecutado.\n",
    "- Las estadísticas de monitoreo registradas segundo a segundo durante la ejecución.\n",
    "\n",
    "---\n",
    "\n",
    "## 🎯 Propósito\n",
    "\n",
    "Estos datos sirven como base para realizar un análisis comparativo entre ambos entornos (VM vs Docker) y entender mejor las diferencias en eficiencia, manejo de recursos y rendimiento bajo carga.\n",
    "\n",
    "Los resultados obtenidos serán presentados y analizados en detalle en una sección posterior del informe.\n"
   ]
  },
  {
   "cell_type": "code",
   "execution_count": 1,
   "id": "42a9bdbe",
   "metadata": {},
   "outputs": [],
   "source": [
    "#Imports y configuración inicial\n",
    "import os\n",
    "import subprocess\n",
    "import psutil\n",
    "import time\n",
    "from datetime import datetime\n",
    "\n",
    "# Configuración: ¿es VM o Docker?\n",
    "vm = False  # Cambia a True si estás ejecutando en una VM\n",
    "\n",
    "# Crear carpetas\n",
    "os.makedirs(\"test\", exist_ok=True)\n",
    "os.makedirs(\"resultados\", exist_ok=True)\n"
   ]
  },
  {
   "cell_type": "code",
   "execution_count": 2,
   "id": "7243ca60",
   "metadata": {},
   "outputs": [
    {
     "name": "stdout",
     "output_type": "stream",
     "text": [
      "🔧 Instalando herramientas necesarias...\n",
      "Hit:1 http://deb.debian.org/debian bookworm InRelease\n",
      "Hit:2 http://deb.debian.org/debian bookworm-updates InRelease\n",
      "Hit:3 http://deb.debian.org/debian-security bookworm-security InRelease\n"
     ]
    },
    {
     "name": "stderr",
     "output_type": "stream",
     "text": [
      "\n",
      "WARNING: apt does not have a stable CLI interface. Use with caution in scripts.\n",
      "\n"
     ]
    },
    {
     "name": "stdout",
     "output_type": "stream",
     "text": [
      "Reading package lists...\n",
      "Building dependency tree...\n",
      "Reading state information...\n",
      "All packages are up to date.\n",
      "Reading package lists..."
     ]
    },
    {
     "name": "stderr",
     "output_type": "stream",
     "text": [
      "\n",
      "WARNING: apt does not have a stable CLI interface. Use with caution in scripts.\n",
      "\n"
     ]
    },
    {
     "name": "stdout",
     "output_type": "stream",
     "text": [
      "\n",
      "Building dependency tree...\n",
      "Reading state information...\n",
      "sysbench is already the newest version (1.0.20+ds-5).\n",
      "stress is already the newest version (1.0.7-1).\n",
      "iperf3 is already the newest version (3.12-1+deb12u1).\n",
      "0 upgraded, 0 newly installed, 0 to remove and 0 not upgraded.\n"
     ]
    },
    {
     "data": {
      "text/plain": [
       "CompletedProcess(args=['apt', 'install', '-y', 'sysbench', 'stress', 'iperf3'], returncode=0)"
      ]
     },
     "execution_count": 2,
     "metadata": {},
     "output_type": "execute_result"
    }
   ],
   "source": [
    "#Instalar herramientas necesarias\n",
    "print(\"🔧 Instalando herramientas necesarias...\")\n",
    "instalador = [\"apt\", \"install\", \"-y\", \"sysbench\", \"stress\", \"iperf3\"]\n",
    "if vm:\n",
    "    instalador.insert(0, \"sudo\")\n",
    "subprocess.run([\"apt\", \"update\"], check=True) if not vm else subprocess.run([\"sudo\", \"apt\", \"update\"], check=True)\n",
    "subprocess.run(instalador, check=True)\n"
   ]
  },
  {
   "cell_type": "code",
   "execution_count": 3,
   "id": "74a96468",
   "metadata": {},
   "outputs": [],
   "source": [
    "# Definir los tests\n",
    "tests = {\n",
    "    \"sysbench_cpu\": [\"sysbench\", \"cpu\", \"--cpu-max-prime=20000\", \"run\"],\n",
    "    \"stress_cpu\": [\"stress\", \"--cpu\", \"2\", \"--timeout\", \"10\"],\n",
    "    \"dd_disk\": [\"dd\", \"if=/dev/zero\", \"of=test/file1.img\", \"bs=1M\", \"count=1024\", \"oflag=dsync\"],\n",
    "    \"iperf3_server\": [\"iperf3\", \"-s\"],\n",
    "    \"iperf3_client\": [\"iperf3\", \"-c\", \"localhost\", \"-t\", \"5\"]\n",
    "}\n"
   ]
  },
  {
   "cell_type": "code",
   "execution_count": 4,
   "id": "95b64bfa",
   "metadata": {},
   "outputs": [],
   "source": [
    "#Función de monitoreo y ejecución\n",
    "def monitorear_y_ejecutar(comando, duracion_estimada, nombre_archivo):\n",
    "    uso_recursos = []\n",
    "    print(f\"⏳ Ejecutando y monitoreando: {comando}\")\n",
    "\n",
    "    proceso = subprocess.Popen(comando, stdout=subprocess.PIPE, stderr=subprocess.STDOUT, text=True)\n",
    "\n",
    "    while proceso.poll() is None:\n",
    "        stats = {\n",
    "            \"timestamp\": datetime.now().strftime('%H:%M:%S'),\n",
    "            \"cpu_percent\": psutil.cpu_percent(interval=1),\n",
    "            \"mem_used_mb\": psutil.virtual_memory().used / (1024 ** 2),\n",
    "            \"disk_used_gb\": psutil.disk_usage('/').used / (1024 ** 3),\n",
    "            \"net_sent_mb\": psutil.net_io_counters().bytes_sent / (1024 ** 2),\n",
    "            \"net_recv_mb\": psutil.net_io_counters().bytes_recv / (1024 ** 2)\n",
    "        }\n",
    "        uso_recursos.append(stats)\n",
    "\n",
    "    salida, _ = proceso.communicate()\n",
    "\n",
    "    with open(f\"resultados/{nombre_archivo}.txt\", \"w\", encoding=\"utf-8\") as f:\n",
    "        f.write(f\"=== SALIDA DE LA PRUEBA {nombre_archivo} ===\\n\\n\")\n",
    "        f.write(salida)\n",
    "        f.write(\"\\n\\n=== MONITOREO DE RECURSOS ===\\n\")\n",
    "        for r in uso_recursos:\n",
    "            f.write(f\"{r['timestamp']} - CPU: {r['cpu_percent']}% | MEM: {r['mem_used_mb']:.2f} MB | \"\n",
    "                    f\"DISK: {r['disk_used_gb']:.2f} GB | NET↑: {r['net_sent_mb']:.2f} MB | NET↓: {r['net_recv_mb']:.2f} MB\\n\")\n",
    "\n",
    "    print(f\"✅ {nombre_archivo} finalizado y guardado.\\n\")\n"
   ]
  },
  {
   "cell_type": "code",
   "execution_count": 5,
   "id": "51e789d4",
   "metadata": {},
   "outputs": [
    {
     "name": "stdout",
     "output_type": "stream",
     "text": [
      "⏳ Ejecutando y monitoreando: ['sysbench', 'cpu', '--cpu-max-prime=20000', 'run']\n",
      "✅ sysbench_cpu finalizado y guardado.\n",
      "\n",
      "⏳ Ejecutando y monitoreando: ['stress', '--cpu', '2', '--timeout', '10']\n",
      "✅ stress_cpu finalizado y guardado.\n",
      "\n",
      "⏳ Ejecutando y monitoreando: ['dd', 'if=/dev/zero', 'of=test/file1.img', 'bs=1M', 'count=1024', 'oflag=dsync']\n",
      "✅ dd_disk finalizado y guardado.\n",
      "\n",
      "🌐 Servidor iperf3 iniciado...\n",
      "⏳ Ejecutando y monitoreando: ['iperf3', '-c', 'localhost', '-t', '5']\n",
      "✅ iperf3_client finalizado y guardado.\n",
      "\n",
      "🛑 Servidor iperf3 detenido.\n",
      "🎉 Todas las pruebas han finalizado correctamente.\n"
     ]
    }
   ],
   "source": [
    "#Ejecutar los tests\n",
    "for test_name, comando in tests.items():\n",
    "    if test_name == \"iperf3_server\":\n",
    "        server_proc = subprocess.Popen(comando, stdout=subprocess.DEVNULL, stderr=subprocess.DEVNULL)\n",
    "        print(\"🌐 Servidor iperf3 iniciado...\")\n",
    "        time.sleep(2)\n",
    "        continue\n",
    "    elif test_name == \"iperf3_client\":\n",
    "        monitorear_y_ejecutar(comando, duracion_estimada=6, nombre_archivo=test_name)\n",
    "        if 'server_proc' in locals():\n",
    "            server_proc.terminate()\n",
    "            print(\"🛑 Servidor iperf3 detenido.\")\n",
    "    else:\n",
    "        monitorear_y_ejecutar(comando, duracion_estimada=10, nombre_archivo=test_name)\n",
    "\n",
    "print(\"🎉 Todas las pruebas han finalizado correctamente.\")\n"
   ]
  },
  {
   "cell_type": "code",
   "execution_count": 7,
   "id": "97579f82",
   "metadata": {},
   "outputs": [
    {
     "ename": "ModuleNotFoundError",
     "evalue": "No module named 'matplotlib'",
     "output_type": "error",
     "traceback": [
      "\u001b[0;31m---------------------------------------------------------------------------\u001b[0m",
      "\u001b[0;31mModuleNotFoundError\u001b[0m                       Traceback (most recent call last)",
      "Cell \u001b[0;32mIn[7], line 2\u001b[0m\n\u001b[1;32m      1\u001b[0m \u001b[38;5;66;03m#Graficar los resultados\u001b[39;00m\n\u001b[0;32m----> 2\u001b[0m \u001b[38;5;28;01mimport\u001b[39;00m\u001b[38;5;250m \u001b[39m\u001b[38;5;21;01mmatplotlib\u001b[39;00m\u001b[38;5;21;01m.\u001b[39;00m\u001b[38;5;21;01mpyplot\u001b[39;00m\u001b[38;5;250m \u001b[39m\u001b[38;5;28;01mas\u001b[39;00m\u001b[38;5;250m \u001b[39m\u001b[38;5;21;01mplt\u001b[39;00m\n\u001b[1;32m      4\u001b[0m \u001b[38;5;66;03m# Función para cargar datos de un archivo\u001b[39;00m\n\u001b[1;32m      5\u001b[0m \u001b[38;5;28;01mdef\u001b[39;00m\u001b[38;5;250m \u001b[39m\u001b[38;5;21mcargar_datos_resultado\u001b[39m(nombre_archivo):\n",
      "\u001b[0;31mModuleNotFoundError\u001b[0m: No module named 'matplotlib'"
     ]
    }
   ],
   "source": [
    "#Graficar los resultados\n",
    "import matplotlib.pyplot as plt\n",
    "\n",
    "# Función para cargar datos de un archivo\n",
    "def cargar_datos_resultado(nombre_archivo):\n",
    "    timestamps = []\n",
    "    cpu = []\n",
    "    mem = []\n",
    "    ruta = f\"resultados/{nombre_archivo}.txt\"\n",
    "\n",
    "    with open(ruta, \"r\", encoding=\"utf-8\") as f:\n",
    "        lines = f.readlines()\n",
    "        monitoreo = [line for line in lines if \"CPU:\" in line]\n",
    "        for line in monitoreo:\n",
    "            parts = line.strip().split(\" | \")\n",
    "            timestamp = parts[0].split(\" - \")[0]\n",
    "            cpu_val = float(parts[0].split(\"CPU: \")[1].replace(\"%\", \"\"))\n",
    "            mem_val = float(parts[1].split(\"MEM: \")[1].replace(\" MB\", \"\"))\n",
    "            timestamps.append(timestamp)\n",
    "            cpu.append(cpu_val)\n",
    "            mem.append(mem_val)\n",
    "    return timestamps, cpu, mem\n",
    "\n",
    "# Seleccionar un test para graficar\n",
    "test_a_graficar = \"sysbench_cpu\"\n",
    "timestamps, cpu, mem = cargar_datos_resultado(test_a_graficar)\n",
    "\n",
    "# Graficar CPU y memoria\n",
    "plt.figure(figsize=(12, 6))\n",
    "plt.plot(timestamps, cpu, label='CPU (%)', marker='o')\n",
    "plt.plot(timestamps, mem, label='Memoria (MB)', marker='x')\n",
    "plt.xlabel('Tiempo')\n",
    "plt.ylabel('Uso')\n",
    "plt.title(f'Resultados del test: {test_a_graficar}')\n",
    "plt.xticks(rotation=45)\n",
    "plt.legend()\n",
    "plt.tight_layout()\n",
    "plt.show()\n"
   ]
  },
  {
   "cell_type": "code",
   "execution_count": null,
   "id": "1b6beeec-d44c-42b3-b8b9-55ecaa810a97",
   "metadata": {},
   "outputs": [],
   "source": []
  }
 ],
 "metadata": {
  "kernelspec": {
   "display_name": "Python 3 (ipykernel)",
   "language": "python",
   "name": "python3"
  },
  "language_info": {
   "codemirror_mode": {
    "name": "ipython",
    "version": 3
   },
   "file_extension": ".py",
   "mimetype": "text/x-python",
   "name": "python",
   "nbconvert_exporter": "python",
   "pygments_lexer": "ipython3",
   "version": "3.10.17"
  }
 },
 "nbformat": 4,
 "nbformat_minor": 5
}

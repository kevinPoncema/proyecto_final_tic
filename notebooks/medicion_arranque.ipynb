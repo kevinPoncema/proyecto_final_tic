{
 "cells": [
  {
   "cell_type": "markdown",
   "id": "766b3ed5",
   "metadata": {},
   "source": [
    "# 🕒 Medición de Tiempo de Arranque: VM vs Docker\n",
    "\n",
    "Este notebook mide y compara el tiempo que tarda en arrancar:\n",
    "- Una máquina virtual (VM) ejecutada en VirtualBox.\n",
    "- Un contenedor Docker basado en una imagen ligera (por ejemplo, Ubuntu o Alpine).\n",
    "\n",
    "El objetivo es analizar cuál de los dos entornos se inicializa más rápido.\n",
    "\n",
    "---\n"
   ]
  },
  {
   "cell_type": "markdown",
   "id": "9bea4af5",
   "metadata": {},
   "source": [
    "## ⚙️ Cómo funciona el script\n",
    "\n",
    "El script `medicion_arranque.py` realiza dos tareas principales:\n",
    "\n",
    "1️⃣ **Arranque de Docker**\n",
    "- Lanza un contenedor temporal usando la imagen `ubuntu` (o `alpine`).\n",
    "- Mide el tiempo que tarda el contenedor en ejecutarse y salir.\n",
    "\n",
    "2️⃣ **Arranque de VM**\n",
    "- Usa `VBoxManage` (herramienta de línea de comandos de VirtualBox) para iniciar una máquina virtual específica (debes tener VirtualBox instalado).\n",
    "- Espera a que la máquina esté accesible por red, verificando que responda por el puerto 22 (SSH).\n",
    "\n",
    "El script guarda los resultados en un archivo llamado:\n"
   ]
  },
  {
   "cell_type": "markdown",
   "id": "17c9cf08",
   "metadata": {},
   "source": [
    "## 🛠️ Configuración necesaria en VirtualBox\n",
    "\n",
    "Antes de ejecutar este notebook, asegúrate de:\n",
    "\n",
    "✅ Tener una máquina virtual creada en VirtualBox.  \n",
    "✅ Configurar la VM para:\n",
    "- Asignar una **IP fija** en red interna o puenteada.\n",
    "- Tener habilitado el servicio SSH (para que responda en el puerto 22).\n",
    "- Anotar el **nombre exacto** de la VM (usado en VirtualBox, no solo el nombre visible).\n",
    "\n",
    "Ejemplo de ajustes de red:\n",
    "- Red → Adaptador puente (para usar red local).\n",
    "- O Red interna con configuración manual.\n",
    "\n",
    "Asegúrate también de que puedes hacer ping o conexión SSH desde tu máquina host al IP configurado.\n",
    "\n",
    "---\n"
   ]
  },
  {
   "cell_type": "code",
   "execution_count": null,
   "id": "12275425",
   "metadata": {},
   "outputs": [],
   "source": [
    "#Configuración de parámetros e importacion\n",
    "import subprocess\n",
    "import time\n",
    "import socket\n",
    "import os\n",
    "# Configuración de prueba\n",
    "VM_NAME = \"VM Clase\"            # Nombre EXACTO de la VM en VirtualBox\n",
    "VM_IP = \"192.168.56.101\"        # IP fija asignada a la VM\n",
    "VM_PORT = 22                    # Puerto SSH (usualmente 22)\n",
    "DOCKER_IMAGE = \"ubuntu\"         # Imagen de Docker para la prueba (puedes usar \"alpine\")"
   ]
  },
  {
   "cell_type": "code",
   "execution_count": null,
   "id": "9f14737b",
   "metadata": {},
   "outputs": [],
   "source": [
    "#Funciones de medición\n",
    "# Crear carpeta resultados si no existe\n",
    "os.makedirs(\"results\", exist_ok=True)\n",
    "\n",
    "def medir_arranque_docker():\n",
    "    print(\"\\n🐳 Midiendo arranque de Docker...\")\n",
    "    start = time.time()\n",
    "    result = subprocess.run([\n",
    "        \"docker\", \"run\", \"--rm\", DOCKER_IMAGE, \"sh\", \"-c\", \"echo 'Listo desde Docker'\"\n",
    "    ], capture_output=True, text=True)\n",
    "    end = time.time()\n",
    "    print(result.stdout.strip())\n",
    "    print(f\"⏱️ Docker arrancó en {end - start:.2f} segundos\")\n",
    "    return end - start\n",
    "\n",
    "def esperar_puerto(ip, puerto, timeout=60):\n",
    "    print(f\"🔌 Esperando que la VM esté activa en {ip}:{puerto}...\")\n",
    "    start = time.time()\n",
    "    while time.time() - start < timeout:\n",
    "        try:\n",
    "            with socket.create_connection((ip, puerto), timeout=2):\n",
    "                return True\n",
    "        except (socket.timeout, ConnectionRefusedError, OSError):\n",
    "            time.sleep(1)\n",
    "    return False\n",
    "\n",
    "def medir_arranque_vm():\n",
    "    print(\"\\n🖥️ Midiendo arranque de VM...\")\n",
    "    start = time.time()\n",
    "    subprocess.run([\"VBoxManage\", \"startvm\", VM_NAME, \"--type\", \"headless\"])\n",
    "    if esperar_puerto(VM_IP, VM_PORT):\n",
    "        end = time.time()\n",
    "        print(f\"⏱️ VM arrancó en {end - start:.2f} segundos\")\n",
    "        return end - start\n",
    "    else:\n",
    "        print(\"⚠️ No se pudo comprobar el arranque de la VM (timeout)\")\n",
    "        return None\n"
   ]
  },
  {
   "cell_type": "code",
   "execution_count": null,
   "id": "fa949f31",
   "metadata": {},
   "outputs": [],
   "source": [
    "#Ejecutar las mediciones\n",
    "tiempo_docker = medir_arranque_docker()\n",
    "tiempo_vm = medir_arranque_vm()\n",
    "\n",
    "# Guardar resultados\n",
    "with open(\"resultados/tiempos_arranque.txt\", \"w\") as f:\n",
    "    f.write(\"=== Tiempos de Arranque ===\\n\")\n",
    "    f.write(f\"Docker: {tiempo_docker:.2f} segundos\\n\")\n",
    "    if tiempo_vm is not None:\n",
    "        f.write(f\"VM: {tiempo_vm:.2f} segundos\\n\")\n",
    "    else:\n",
    "        f.write(\"VM: No disponible (falló la conexión)\\n\")\n",
    "\n",
    "print(\"\\n✅ Resultados guardados en resultados/tiempos_arranque.txt\")\n"
   ]
  },
  {
   "cell_type": "code",
   "execution_count": null,
   "id": "c139456b",
   "metadata": {},
   "outputs": [],
   "source": [
    "#Leer resultados y graficar\n",
    "import matplotlib.pyplot as plt\n",
    "\n",
    "# Leer resultados del archivo\n",
    "tiempos = {}\n",
    "with open(\"resultados/tiempos_arranque.txt\", \"r\") as f:\n",
    "    for line in f:\n",
    "        if \"Docker\" in line:\n",
    "            tiempos[\"Docker\"] = float(line.strip().split(\": \")[1].split()[0])\n",
    "        if \"VM\" in line and \"No disponible\" not in line:\n",
    "            tiempos[\"VM\"] = float(line.strip().split(\": \")[1].split()[0])\n",
    "\n",
    "# Graficar\n",
    "plt.figure(figsize=(6, 4))\n",
    "plt.bar(tiempos.keys(), tiempos.values(), color=['skyblue', 'orange'])\n",
    "plt.ylabel('Tiempo (segundos)')\n",
    "plt.title('Comparación de Tiempo de Arranque\\nDocker vs Máquina Virtual')\n",
    "plt.show()\n"
   ]
  }
 ],
 "metadata": {
  "kernelspec": {
   "display_name": "Python 3",
   "language": "python",
   "name": "python3"
  },
  "language_info": {
   "name": "python",
   "version": "3.13.1"
  }
 },
 "nbformat": 4,
 "nbformat_minor": 5
}
